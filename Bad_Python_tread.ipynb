{
 "cells": [
  {
   "cell_type": "markdown",
   "metadata": {},
   "source": [
    "Этот тред о том, сколько всего в питоне нелогичного и непоследовательного. \n",
    "Целью треда не является показать, что питон — гавно, хотя кого я обманываю. Скорее цель поделиться накипевшим, попытаться в некоторых случаях понять и объяснить причины, почему сделано так, а не иначе. Возможно тред будет полезен тем, кто начинает изучать питон, потому что скучные мануалы запоминаются хуже, чем чужие боль и страдания."
   ]
  },
  {
   "cell_type": "markdown",
   "metadata": {},
   "source": [
    "Начнём с того, как логично определены названия и обозначения структур данных и удачно выбраны названия методов (здесь и далее — на самом деле нет!). Те, кто немного знаком со структурами данных, знают, что list — это стандартное название структуры данных «связный список», именно поэтому в питоне так называется другая структура данных — динамический массив."
   ]
  },
  {
   "cell_type": "markdown",
   "metadata": {},
   "source": [
    "Стандартная библиотека C++ прекрасна (на самом деле) тем, что в коде можно легко менять используемую структуру данных, в зависимости от текущих нужд. Например, в графе, описанном через список смежности, последний можно реализовать как динамическим массивом, так и связным списком; разные структуры данных нужны под разные задачи, поэтому их легко можно поменять, поменяв структуру данных как параметр, заменив просто её имя. Для этого важно, чтобы стандартные методы работы со структурами данных (добавление, удаление элементов, итерация по значениям) описывались (и назывались) одинаково. К тому же одинаковые названия проще запомнить. Именно поэтому в питоне выбрали разные названия для одинаковых методов в разных структурах данных."
   ]
  },
  {
   "cell_type": "markdown",
   "metadata": {},
   "source": [
    "За годы в математике и программировании были выработанны стандартные обозначения, которые в том числе отражены в питоне. Например, `[1, 2, 3]` — это массив (`list`), `{1,2,3}` — это множество (`set`), `(1, 2, 3)` — это конечная последовательность (набор, `tuple`). Именно поэтому в питоне `[]` — пустой массив, `()` — пустой набор, а `{}` — это пустой словарь (`dictionary`, не `set`!), а не пустое множество; пустое множество — это `set()`. При этом `(1)` — это просто число 1 в скобках, а не набор из одного элемента, а если хочется задать набор из одного элемента, то нужно писать `(1,)`."
   ]
  },
  {
   "cell_type": "code",
   "execution_count": 1,
   "metadata": {},
   "outputs": [
    {
     "name": "stdout",
     "output_type": "stream",
     "text": [
      "\n",
      "This is a list: [1, 3]\n",
      "This is a set: {1, 3}\n",
      "type([1, 3]): <class 'list'> type({1, 3}): <class 'set'>\n",
      "\n",
      "This is an empty list: [] type([]): <class 'list'>\n",
      "What is this: {} ?\n",
      "type({}): <class 'dict'>\n",
      "Why? Because this is a dict: {'a': 1, 'b': 2} type({'a': 1, 'b': 2}): <class 'dict'>\n",
      "This is an empty set: set()\n",
      "And this is another empty list: list() == []\n"
     ]
    }
   ],
   "source": [
    "a = list()\n",
    "s = set()\n",
    "a.append(1)\n",
    "a.extend([2, 3])\n",
    "a.remove(2)\n",
    "#Official tutorial https://docs.python.org/3/tutorial/datastructures.html\n",
    "#dedcribes list's methods, but do not describe set metods.\n",
    "#Very convenient, so see https://docs.python.org/3/library/stdtypes.html#set\n",
    "s.add(1)\n",
    "s.update({2, 3})\n",
    "s.remove(2)\n",
    "#Different method names for different data structures: very convenient!\n",
    "s.discard(5)\n",
    "#No analog to discard method for list\n",
    "###########\n",
    "print(\"\\nThis is a list:\", a)\n",
    "print(\"This is a set:\", s)\n",
    "print(f\"type({a}):\", type(a), f\"type({s}):\", type(s))\n",
    "print(\"\\nThis is an empty list:\", [], \"type([]):\", type([]))\n",
    "WTF = {}\n",
    "print(f\"What is this:\", WTF, \"?\")\n",
    "print(\"type({}):\", type({}))\n",
    "d = {\"a\": 1, \"b\": 2}\n",
    "print(\"Why? Because this is a dict:\", d, f\"type({d}):\", type(d))\n",
    "print(\"This is an empty set:\", set())\n",
    "print(\"And this is another empty list: list() ==\", list())\n"
   ]
  },
  {
   "cell_type": "code",
   "execution_count": 2,
   "metadata": {},
   "outputs": [
    {
     "name": "stdout",
     "output_type": "stream",
     "text": [
      "<class 'tuple'> <class 'int'> <class 'tuple'>\n"
     ]
    }
   ],
   "source": [
    "a = ()\n",
    "b = (1)\n",
    "c = (1,)\n",
    "print(type(a), type(b), type(c))"
   ]
  },
  {
   "cell_type": "markdown",
   "metadata": {},
   "source": [
    "Теперь давайте поговорим о последвательности в синтаксисе. Языки программирования стали избавляться от `;` после каждого оператора, потому что все стали писать по одному оператору в строке, а если их больше, то тогда можно и исользовать `;`. В питоне решили отказаться от скобок `begin ... end` в блоках или их аналога `{...}` в си-подобном синтаксисе, потому что все и так пишут блоки с отступами — давайте просто требовать отступы. Очень последовательно требовать обязательно ставить `:` в `for _condition_ :`, `if _condition_ :`, `else:`, когда с новой строчки обязательно начинается блок с отступом. При этом правила хорошего тона всё равно предписывают оставлять пустою строку после окончания блока, но писать на ней `end` для того же улучшения читаемости западло."
   ]
  },
  {
   "cell_type": "code",
   "execution_count": 3,
   "metadata": {},
   "outputs": [
    {
     "name": "stdout",
     "output_type": "stream",
     "text": [
      "0\n",
      "1\n",
      "2\n",
      "3\n",
      "4\n"
     ]
    }
   ],
   "source": [
    "for i in range(5):\n",
    "    print(i)\n",
    "    \n",
    "#for i in range(5)\n",
    "#   print(\"You forgot ':' and will be punished for it!\")"
   ]
  },
  {
   "cell_type": "markdown",
   "metadata": {},
   "source": [
    "Теперь о вечном. Нерадивые европейцы принесли много проблем, когда позаимствовали у арабов цифры. Арабы читают слева направо, поэтому в числе 123 их глаза идут от младших разрядов к старшим и им не нужно знать количество цифр в числе, чтобы их прочесть. Эта беда проявилась при записи композиции функций: `f(g(h(x)))` — сначала применяется h, потом g, потом f. Читать это неудобно, потому что нужно читать справа налево и если у функций несколько аргументов, то нужно ещё смотреть к какой скобке они относятся.\n",
    "\n",
    "Эта проблема записи была в общем-то решена в ООП — функцию h применяемую к объекту класса x вызывают как `x.h()`. Поэтому гораздо лучше всё читается, если писать `x.h().g().f()` — на каждом этапе видно какая функция применилась к выходу предыдущей. Можно писать и в первом стиле, но лучше сохранять последовательность, или соблюдать принцип, по кторому какие-то функции являются внешними, а какие-то — объекты класса. Как хорошо, что в питоне об этом позаботились. "
   ]
  },
  {
   "cell_type": "code",
   "execution_count": 4,
   "metadata": {},
   "outputs": [
    {
     "name": "stdout",
     "output_type": "stream",
     "text": [
      "[3, 2, 1]\n",
      "[1, 2, 3]\n",
      "{1, 2, 3}\n",
      "{1, 2, 3, 4, 5}\n",
      "[1, 2] + [3,4]: [1, 2, 3, 4]\n",
      "\n",
      "Iterate through a dictionary with keys and values:\n",
      "a 1\n",
      "b 2\n",
      "c 3\n",
      "d 2\n",
      "\n",
      "Iterate through a list with indices and values:\n",
      "0 1\n",
      "1 2\n",
      "2 3\n",
      "3 4\n"
     ]
    }
   ],
   "source": [
    "d = {\"a\": 1, \"b\": 2, \"c\": 3, \"d\": 2}\n",
    "a = sorted(list(set(d.values())), reverse = True)\n",
    "print(a)\n",
    "a.sort() #Now a is sorted in the ascending order\n",
    "print(a) \n",
    "s = {1, 2, 3}\n",
    "s1 = s.union({4, 5}) #s was not changed\n",
    "print(s)\n",
    "print(s1)\n",
    "#s1 = union(s, {4, 5}) # Wrong\n",
    "#s1 =  s + {4, 5} # Wrong\n",
    "a = [1, 2] + [3,4] #Ok\n",
    "print(\"[1, 2] + [3,4]:\", a) \n",
    "print(\"\\nIterate through a dictionary with keys and values:\")\n",
    "for k, v in d.items():\n",
    "    print(k, v)\n",
    "    \n",
    "print(\"\\nIterate through a list with indices and values:\")\n",
    "for i, x in enumerate(a):\n",
    "    print(i, x)"
   ]
  },
  {
   "cell_type": "markdown",
   "metadata": {},
   "source": [
    "Вернёмся к прекрасной документации. https://docs.python.org/3/library/stdtypes.html#sequence-types-list-tuple-range Обещает, что `x in a` вернёт нам `True`, если элемент `x` есть в массиве и `False` иначе. Давайте попробуем "
   ]
  },
  {
   "cell_type": "code",
   "execution_count": 5,
   "metadata": {},
   "outputs": [
    {
     "name": "stdout",
     "output_type": "stream",
     "text": [
      "\n",
      "a: [[1, 2], [3, 4]] v3: [1, 2]\n",
      "Looks ok\n",
      "\n",
      "a: [[1, 2], [3, 4]] v3: [1, 2]\n",
      "Looks ok\n",
      "\n",
      "a: [array([1, 2]), array([3, 4])] v3: [1 2]\n",
      "Looks ok\n",
      "\n",
      "a: [array([1, 2]), array([3, 4])] v3: [1 2]\n",
      "Everybody lies!\n",
      "\n",
      "a: [array([1, 2]), array([3, 4])] v3: [1 2]\n",
      "Looks ok\n",
      "\n",
      "a: [array([1, 2]), array([3, 4])] v3: [1 2]\n",
      "Everybody lies!\n"
     ]
    }
   ],
   "source": [
    "import numpy as np\n",
    "\n",
    "def who_lies(v1, v2, v3):\n",
    "    a = [v1, v2]\n",
    "    print(\"\\na:\", a, \"v3:\", v3)\n",
    "    try:\n",
    "        if v3 in a:\n",
    "            print(\"Looks ok\")\n",
    "    except:\n",
    "        print(\"Everybody lies!\")\n",
    "\n",
    "v1 = [1, 2]\n",
    "v2 = [3, 4]\n",
    "who_lies(v1, v2, v1)\n",
    "who_lies(v1, v2, [1,2])\n",
    "         \n",
    "v1 = np.array([1, 2])\n",
    "v2 = np.array([3, 4])\n",
    "v3 = np.array([1, 2])\n",
    "who_lies(v1, v2, v1)\n",
    "who_lies(v1, v2, v3)\n",
    "\n",
    "v3 = v1\n",
    "who_lies(v1, v2, v3)\n",
    "who_lies(v1, v2, np.array([1, 2]))"
   ]
  },
  {
   "cell_type": "code",
   "execution_count": 6,
   "metadata": {},
   "outputs": [
    {
     "name": "stdout",
     "output_type": "stream",
     "text": [
      "[array([1, 2]), array([3, 4])]\n",
      "[array([2, 3]), array([3, 4])]\n",
      "[[1, 2], [3, 4]]\n",
      "[[1, 2, 1], [3, 4]]\n"
     ]
    }
   ],
   "source": [
    "import numpy as np\n",
    "\n",
    "v1 = np.array([1, 2])\n",
    "v2 = np.array([3, 4])\n",
    "a = [v1, v2]\n",
    "print(a)\n",
    "v1 += 1\n",
    "print(a)\n",
    "####\n",
    "v1 = [1,2]\n",
    "v2 = [3,4]\n",
    "a = [v1, v2]\n",
    "print(a)\n",
    "v1 += [1]\n",
    "print(a)"
   ]
  },
  {
   "cell_type": "markdown",
   "metadata": {},
   "source": [
    "Насколько я понимаю, тут это работает так. В случае неизменяемых типов (`tuple`) оператор `in` проверяет непосредственное равенство `x` с объектами в структуре данных. В случае изменяемых типов проверяется либо вхождения объекта с тем же адресом (в случае с `np.array`), либо равенство, если реализован оператор проверки на равенство (`list`). В `np.array` есть оператор `==`, но он возвращает покомпонентное сравнение, что приводит к ошибке в случае проверки на наличие элемента типа `np.array` в массиве. \n",
    "\n",
    "В любом случае, результат оператора `in` выглядит довольно странно если спрашивать про наличие в массиве переменных `v1` и `v3` (в случае `np.array`). Видимо питон сначала проверяет по адресам, а потом проверяет на равенство, в случае, если проверка на совпадение адресов оказалась неуспешной."
   ]
  },
  {
   "cell_type": "code",
   "execution_count": 7,
   "metadata": {},
   "outputs": [
    {
     "name": "stdout",
     "output_type": "stream",
     "text": [
      "v1 == v2: [ True False] \n",
      "(v1 == v2).all(): False \n",
      "(v1 == v2).any(): True\n"
     ]
    },
    {
     "ename": "ValueError",
     "evalue": "The truth value of an array with more than one element is ambiguous. Use a.any() or a.all()",
     "output_type": "error",
     "traceback": [
      "\u001b[0;31m---------------------------------------------------------------------------\u001b[0m",
      "\u001b[0;31mValueError\u001b[0m                                Traceback (most recent call last)",
      "\u001b[0;32m<ipython-input-7-ae6b8f93659f>\u001b[0m in \u001b[0;36m<module>\u001b[0;34m\u001b[0m\n\u001b[1;32m      5\u001b[0m \u001b[0mprint\u001b[0m \u001b[0;34m(\u001b[0m\u001b[0;34m\"v1 == v2:\"\u001b[0m\u001b[0;34m,\u001b[0m \u001b[0mv1\u001b[0m \u001b[0;34m==\u001b[0m \u001b[0mv2\u001b[0m\u001b[0;34m,\u001b[0m \u001b[0;34m\"\\n(v1 == v2).all():\"\u001b[0m\u001b[0;34m,\u001b[0m \u001b[0;34m(\u001b[0m\u001b[0mv1\u001b[0m \u001b[0;34m==\u001b[0m \u001b[0mv2\u001b[0m\u001b[0;34m)\u001b[0m\u001b[0;34m.\u001b[0m\u001b[0mall\u001b[0m\u001b[0;34m(\u001b[0m\u001b[0;34m)\u001b[0m\u001b[0;34m,\u001b[0m \u001b[0;34m\"\\n(v1 == v2).any():\"\u001b[0m\u001b[0;34m,\u001b[0m \u001b[0;34m(\u001b[0m\u001b[0mv1\u001b[0m \u001b[0;34m==\u001b[0m \u001b[0mv2\u001b[0m\u001b[0;34m)\u001b[0m\u001b[0;34m.\u001b[0m\u001b[0many\u001b[0m\u001b[0;34m(\u001b[0m\u001b[0;34m)\u001b[0m\u001b[0;34m)\u001b[0m\u001b[0;34m\u001b[0m\u001b[0;34m\u001b[0m\u001b[0m\n\u001b[1;32m      6\u001b[0m \u001b[0ma\u001b[0m \u001b[0;34m=\u001b[0m \u001b[0;34m[\u001b[0m\u001b[0mv1\u001b[0m\u001b[0;34m,\u001b[0m \u001b[0mv2\u001b[0m\u001b[0;34m]\u001b[0m\u001b[0;34m\u001b[0m\u001b[0;34m\u001b[0m\u001b[0m\n\u001b[0;32m----> 7\u001b[0;31m \u001b[0mnp\u001b[0m\u001b[0;34m.\u001b[0m\u001b[0marray\u001b[0m\u001b[0;34m(\u001b[0m\u001b[0;34m[\u001b[0m\u001b[0;36m1\u001b[0m\u001b[0;34m,\u001b[0m \u001b[0;36m2\u001b[0m\u001b[0;34m]\u001b[0m\u001b[0;34m)\u001b[0m \u001b[0;32min\u001b[0m \u001b[0ma\u001b[0m\u001b[0;34m\u001b[0m\u001b[0;34m\u001b[0m\u001b[0m\n\u001b[0m",
      "\u001b[0;31mValueError\u001b[0m: The truth value of an array with more than one element is ambiguous. Use a.any() or a.all()"
     ]
    }
   ],
   "source": [
    "import numpy as np\n",
    "\n",
    "v1 = np.array([1, 2])\n",
    "v2 = np.array([1, 4])\n",
    "print (\"v1 == v2:\", v1 == v2, \"\\n(v1 == v2).all():\", (v1 == v2).all(), \"\\n(v1 == v2).any():\", (v1 == v2).any())\n",
    "a = [v1, v2]\n",
    "np.array([1, 2]) in a"
   ]
  },
  {
   "cell_type": "markdown",
   "metadata": {},
   "source": [
    "Чтобы идти дальше, давайте поговорим о генераторах, итераторах и почему они так называются. В C++ итератором называют специальный указатель, котороый указывает на текущий элемент контейнера, по которому ведётся итерация. Итераторы могут быть принципиально разными: в динамических массивах перейти на k-ый элемент справа от текущего можно за O(1), а в связном списке это будет стоить O(k). Но в целом, итераторы — это инструмент с помощью которых можно перебрать все элементы структуры данных.\n",
    "\n",
    "Эти знания об итераторах приводят в недоумение, если посмотреть определение из мана https://docs.python.org/3/glossary.html#term-generator и следующий пример."
   ]
  },
  {
   "cell_type": "code",
   "execution_count": 9,
   "metadata": {},
   "outputs": [
    {
     "name": "stdout",
     "output_type": "stream",
     "text": [
      "10\n",
      "2\n",
      "7\n",
      "4\n",
      "3\n"
     ]
    }
   ],
   "source": [
    "import random\n",
    "\n",
    "def rand_int():\n",
    "    while True:\n",
    "        yield random.randint(0, 10)\n",
    "\n",
    "g = rand_int()\n",
    "for x in range(5):\n",
    "    print(next(g))"
   ]
  },
  {
   "cell_type": "markdown",
   "metadata": {},
   "source": [
    "На самом деле генератор — это функция, которая описывает (рекурсивно-)перечислимое множество, а точнее последовательность. Она может быть как конечной, так и бесконечной. Это важное абстрактное понятие из теоретической информатики, которое нашло применение в современных языках программирования. Например, в том же питоне, функция print получает любое число аргументов — это реализовано через обращение к генератору, который последовательно подаёт значения последовательности, пока они не закончатся. Было бы логично назвать генераторы enumerators, но нет."
   ]
  },
  {
   "cell_type": "code",
   "execution_count": null,
   "metadata": {},
   "outputs": [],
   "source": []
  },
  {
   "cell_type": "markdown",
   "metadata": {},
   "source": [
    "Я слышал, что питон позиционируют как язык, близкий к математикам. В математике есть устоявшийся термин — отображение, `map`. Отображение получает на вход аргумент из множества X и возвращает значение из множества Y. Логично, чтобы отображение, применённое к множеству, возвращало множество, а к массиву — массив значений отображения, но нет! Отображение возвращает генератор, а чтобы получить тип, нужно вызвать конструктор соответствующего объекта (но это не точно)."
   ]
  },
  {
   "cell_type": "code",
   "execution_count": 10,
   "metadata": {},
   "outputs": [
    {
     "name": "stdout",
     "output_type": "stream",
     "text": [
      "<map object at 0x7fee6cc40e50>\n",
      "[2, 3, 4]\n",
      "<map object at 0x7fee6cc40e50>\n",
      "[2 3 4] <class 'numpy.ndarray'>\n"
     ]
    }
   ],
   "source": [
    "import numpy as np\n",
    "\n",
    "s = {1, 2, 3}\n",
    "\n",
    "print( map(lambda x : x+1, s) )\n",
    "print( list(map(lambda x : x+1, s)) )\n",
    "print( np.array(map(lambda x : x+1, s)) )\n",
    "na = np.array(list(map(lambda x : x+1, s)))\n",
    "print( na, type(na) )"
   ]
  },
  {
   "cell_type": "markdown",
   "metadata": {},
   "source": [
    "Преобразование `list` или `set` через `map` выглядит отвратительно и так делать не надо. Для этого есть то, что называется comprehensions, в которых можно проводить фильтрацию. Жаль только, что такая фильтрация не доступна в цикле `for`."
   ]
  },
  {
   "cell_type": "code",
   "execution_count": 11,
   "metadata": {},
   "outputs": [
    {
     "name": "stdout",
     "output_type": "stream",
     "text": [
      "[2, 3, 4]\n",
      "[2, 4]\n",
      "1\n",
      "3\n"
     ]
    }
   ],
   "source": [
    "s = {1, 2, 3}\n",
    "a = [ x + 1 for x in s  ]\n",
    "print(a)\n",
    "print([x + 1 for x in s if (x % 2 == 1)])\n",
    "for x in s:\n",
    "    if (x % 2 == 1):\n",
    "        print(x)    \n",
    "        \n",
    "#for x in s if (x % 2 == 1): #Does not work\n",
    "#    print(x)"
   ]
  },
  {
   "cell_type": "markdown",
   "metadata": {},
   "source": [
    "Давайте поговорим ещё о последовательности в удобстве фич. Оператор `*` перед контейнером превращает его в вывод генератора (в конечную последовательность) или проще, распасковывает содержимое контейнера"
   ]
  },
  {
   "cell_type": "code",
   "execution_count": 6,
   "metadata": {},
   "outputs": [
    {
     "name": "stdout",
     "output_type": "stream",
     "text": [
      "1 2\n",
      "3 4\n",
      "5 6\n",
      "===\n",
      "1 2\n",
      "3 4\n",
      "5 6\n",
      "===\n",
      "Ups, it does not compile\n",
      "===\n",
      "2 3\n",
      "4 5\n",
      "6 7\n",
      "===\n",
      "2 3\n",
      "4 5\n",
      "6 7\n",
      "\n",
      "Generator unpack example:\n",
      "1 2 3\n"
     ]
    }
   ],
   "source": [
    "a = [(1,2), (3,4), (5,6)]\n",
    "\n",
    "for x, y in a:\n",
    "    print(x, y)  \n",
    "print(\"===\")\n",
    "\n",
    "for (x, y) in a:\n",
    "    print(x, y)    \n",
    "print(\"===\")\n",
    "   \n",
    "try:\n",
    "    for x, y in  map(lambda x, y: (x+1, y+1), a):\n",
    "        print(x, y)\n",
    "except:\n",
    "    print(\"Ups, it does not compile\")\n",
    "print(\"===\")\n",
    "\n",
    "#for x, y in  map(lambda (x, y): (x+1, y+1), a): ## Invalid Syntax\n",
    "#   print(x, y)\n",
    "\n",
    "for x, y in  map(lambda xy: (xy[0]+1, xy[1]+1), a):\n",
    "    print(x, y)\n",
    "\n",
    "print(\"===\")\n",
    "\n",
    "f = lambda x, y: (x+1, y+1)\n",
    "for xy in a:\n",
    "    print( *f(*xy) )\n",
    "\n",
    "print(\"\\nGenerator unpack example:\")    \n",
    "    \n",
    "def three_ints():\n",
    "    yield 1\n",
    "    yield 2\n",
    "    yield 3\n",
    "    \n",
    "print(*three_ints())\n",
    "\n"
   ]
  },
  {
   "cell_type": "markdown",
   "metadata": {},
   "source": [
    "Давайте поговорим о классах. Чтобы все понимали, что функция является объектом класса, она не просто пишется внутри класса, а у неё есть первый аргумент, который согласно гайдлайном следует всегда называть `self`. А потом ссылаться на функцию `f` или переменную `x` в классе нужно через `self.f` или `self.x` в других методах класса. А если вы хотите сначала отладить кусок кода в другом файле/юпитере перед тем как поместить его в класс, то перед всеми переменными класса нужно будет ставить `self` — очень удобно."
   ]
  },
  {
   "cell_type": "code",
   "execution_count": 13,
   "metadata": {},
   "outputs": [
    {
     "name": "stdout",
     "output_type": "stream",
     "text": [
      "3\n"
     ]
    }
   ],
   "source": [
    "class my:\n",
    "    def __init__(self):\n",
    "        self.x = 1\n",
    "    def f(self, y):\n",
    "        return self.x + y\n",
    "    \n",
    "m = my()\n",
    "print(m.f(2))"
   ]
  },
  {
   "cell_type": "markdown",
   "metadata": {},
   "source": [
    "Причём забавно, что в руби эту проблему решили изящно. Перед переменными объекта класса нужно ставить `@` и ту же `@` можно использовать и с переменными в общем коде. Собственно `@` перед вашими никами в твиттере возникла именно из префикса переменных в руби. Также в руби `map` переводит массив в массив и записывается по-человечески."
   ]
  },
  {
   "cell_type": "markdown",
   "metadata": {},
   "source": [
    "Давайте поговорим об удобстве. Питон широко используют для прототипирования. Поэтому в нём отсутствуют такие базовые методы как оставить в массиве только уникальные элементы. Многие скажут, что есть же `list(set(a))`, но это работает, только если у вас элементы имеют hashable type, потому что `set` сделан через хеш. Хотите `set` на красно-чёрных деревьях? Идите ищите его в сторонних библиотеках! На самом деле хранить в листе неизменяемые элементы — это очень хороший тон, если они меняться действительно не будут. Это лишняя защита от выстрела в ногу."
   ]
  },
  {
   "cell_type": "code",
   "execution_count": 14,
   "metadata": {},
   "outputs": [
    {
     "name": "stdout",
     "output_type": "stream",
     "text": [
      "[1, 2, 3, 4]\n",
      "Sorry\n",
      "Sorry again\n",
      "Not sorry: [(1, 2), (3, 4)]\n",
      "Because of: [[2, 2], [3, 4], [1, 2]]\n"
     ]
    }
   ],
   "source": [
    "import numpy as np\n",
    "a = [1, 2, 3, 1, 4, 2, 1]\n",
    "b = list(set(a))\n",
    "print(b)\n",
    "try:\n",
    "    a = [ np.array([1, 2]), np.array([3, 4]), np.array([1, 2])]\n",
    "    b = list(set(a))\n",
    "except:\n",
    "    print(\"Sorry\")\n",
    "    \n",
    "c = [1,2]\n",
    "aa = [ c, [3,4], [1,2]]    \n",
    "try:   \n",
    "    b = list(set(aa))\n",
    "except:\n",
    "    print(\"Sorry again\")    \n",
    "\n",
    "a = [ (1,2), (3,4), (1,2)]\n",
    "b = list(set(a))\n",
    "print(\"Not sorry:\", b)\n",
    "c[0] += 1\n",
    "print(\"Because of:\", aa)"
   ]
  },
  {
   "cell_type": "markdown",
   "metadata": {},
   "source": [
    "Ещё об удобстве. Последний элемент массива `a` можно получить, вызвав `a[-1]`, а отрезок массива можно получить через `a[i:j]`, причём это работает и с отрицательными индексами."
   ]
  },
  {
   "cell_type": "code",
   "execution_count": null,
   "metadata": {},
   "outputs": [],
   "source": [
    "a = [1, 2, 3 ,4]\n",
    "print(a[-1])\n"
   ]
  }
 ],
 "metadata": {
  "kernelspec": {
   "display_name": "Python 3",
   "language": "python",
   "name": "python3"
  },
  "language_info": {
   "codemirror_mode": {
    "name": "ipython",
    "version": 3
   },
   "file_extension": ".py",
   "mimetype": "text/x-python",
   "name": "python",
   "nbconvert_exporter": "python",
   "pygments_lexer": "ipython3",
   "version": "3.8.3"
  }
 },
 "nbformat": 4,
 "nbformat_minor": 4
}
